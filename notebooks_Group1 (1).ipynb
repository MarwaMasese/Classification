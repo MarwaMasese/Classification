{
  "metadata": {
    "language_info": {
      "codemirror_mode": {
        "name": "python",
        "version": 3
      },
      "file_extension": ".py",
      "mimetype": "text/x-python",
      "name": "python",
      "nbconvert_exporter": "python",
      "pygments_lexer": "ipython3",
      "version": "3.8"
    },
    "kernelspec": {
      "name": "python",
      "display_name": "Python (Pyodide)",
      "language": "python"
    }
  },
  "nbformat_minor": 4,
  "nbformat": 4,
  "cells": [
    {
      "cell_type": "code",
      "source": "import pandas as pd\nimport numpy as np\n#choosing a class \nfrom sklearn.linear_model import LinearRegression\nfrom sklearn.model_selection import train_test_split\nimport matplotlib.pyplot as plt",
      "metadata": {
        "trusted": true
      },
      "execution_count": null,
      "outputs": []
    },
    {
      "cell_type": "code",
      "source": "# load dataset in pandas\ndf = pd.read_csv('boston (1).csv')",
      "metadata": {
        "trusted": true
      },
      "execution_count": null,
      "outputs": []
    },
    {
      "cell_type": "code",
      "source": "#Dataset Visualisation\nnRow, nCol = df.shape\nprint(f'There are {nRow} rows and {nCol} columns')",
      "metadata": {
        "trusted": true
      },
      "execution_count": null,
      "outputs": []
    },
    {
      "cell_type": "code",
      "source": "#visualising the dataset \ndf.head(5)",
      "metadata": {
        "trusted": true
      },
      "execution_count": null,
      "outputs": []
    },
    {
      "cell_type": "code",
      "source": "#Feature selection\nx= df[['RM', 'CRIM', 'DIS','RAD', 'PTRATIO', 'AGE', 'ZN', 'CHAS', 'INDUS', 'PTRATIO','NOX', 'CHAS']]\nx.head(5)",
      "metadata": {
        "trusted": true
      },
      "execution_count": null,
      "outputs": []
    },
    {
      "cell_type": "code",
      "source": "#output variable\ny= df[['MEDV' ]]\ny.head(5)",
      "metadata": {
        "trusted": true
      },
      "execution_count": null,
      "outputs": []
    },
    {
      "cell_type": "code",
      "source": "#splitting data into training and test dataset \nx_train, x_test, y_train, y_test = train_test_split(x, y, test_size = 0.3, random_state=1)\n\n# print(x_train.shape)",
      "metadata": {
        "trusted": true
      },
      "execution_count": null,
      "outputs": []
    },
    {
      "cell_type": "code",
      "source": "#model selection\nmodel = LinearRegression()",
      "metadata": {
        "trusted": true
      },
      "execution_count": null,
      "outputs": []
    },
    {
      "cell_type": "code",
      "source": "#Fit the model\nmodel.fit(x_train, y_train)",
      "metadata": {
        "trusted": true
      },
      "execution_count": null,
      "outputs": []
    },
    {
      "cell_type": "code",
      "source": "#printing out the results\nprint('intercept:', model.intercept_)\nprint('slope:', model.coef_)",
      "metadata": {
        "trusted": true
      },
      "execution_count": null,
      "outputs": []
    },
    {
      "cell_type": "code",
      "source": "#PREDICT RESULTS\npredicted_values=model.predict(x_test)\nprint(predicted_values)",
      "metadata": {
        "trusted": true
      },
      "execution_count": null,
      "outputs": []
    },
    {
      "cell_type": "code",
      "source": "#scoring the model \nr_sq = model.score(x_train, y_train)\nprint('coefficient of determination:', r_sq)",
      "metadata": {
        "trusted": true
      },
      "execution_count": null,
      "outputs": []
    },
    {
      "cell_type": "code",
      "source": "plt.title(\"Actual vs Predicted\")\ny_pred= model.predict(x_test)\nplt.scatter(y_pred, y_test);\nplt.xlabel('actual')\nplt.ylabel('predicted')\nplt.show()\nplt.figure(figsize=(10,5))",
      "metadata": {
        "trusted": true
      },
      "execution_count": null,
      "outputs": []
    },
    {
      "cell_type": "code",
      "source": "",
      "metadata": {},
      "execution_count": null,
      "outputs": []
    },
    {
      "cell_type": "code",
      "source": "",
      "metadata": {},
      "execution_count": null,
      "outputs": []
    }
  ]
}